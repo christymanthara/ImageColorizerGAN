{
 "cells": [
  {
   "cell_type": "markdown",
   "metadata": {},
   "source": [
    "Importing libraries\n"
   ]
  },
  {
   "cell_type": "code",
   "execution_count": null,
   "metadata": {},
   "outputs": [
    {
     "name": "stdout",
     "output_type": "stream",
     "text": [
      "PyTorch Version: 2.5.1+cu124\n",
      "CUDA Available: True\n",
      "CUDA Version: 12.4\n",
      "Device Name: NVIDIA GeForce GTX 1650\n"
     ]
    }
   ],
   "source": [
    "import torch\n",
    "print(\"PyTorch Version:\", torch.__version__)\n",
    "print(\"CUDA Available:\", torch.cuda.is_available())\n",
    "print(\"CUDA Version:\", torch.version.cuda)\n",
    "print(\"Device Name:\", torch.cuda.get_device_name(0) if torch.cuda.is_available() else \"No CUDA Device\")\n"
   ]
  },
  {
   "cell_type": "markdown",
   "metadata": {},
   "source": [
    "check if cuda is available\n"
   ]
  },
  {
   "cell_type": "code",
   "execution_count": 2,
   "metadata": {},
   "outputs": [
    {
     "name": "stdout",
     "output_type": "stream",
     "text": [
      "cuda\n"
     ]
    }
   ],
   "source": [
    "device = torch.device(\"cuda\" if torch.cuda.is_available() else \"cpu\")\n",
    "print(device)"
   ]
  },
  {
   "cell_type": "code",
   "execution_count": 33,
   "metadata": {},
   "outputs": [],
   "source": [
    "import torch\n",
    "import torch.nn as nn\n",
    "import torch.optim as optim\n",
    "import mlflow\n",
    "import mlflow.pytorch\n",
    "from matplotlib import pyplot as plt\n",
    "import os\n"
   ]
  },
  {
   "cell_type": "code",
   "execution_count": 15,
   "metadata": {},
   "outputs": [
    {
     "data": {
      "image/png": "[encoded data removed]",
      "text/plain": [
       "<Figure size 640x480 with 1 Axes>"
      ]
     },
     "metadata": {},
     "output_type": "display_data"
    }
   ],
   "source": [
    "# Create a toy dataset\n",
    "def generate_real_data(samples=100):\n",
    "    x = np.linspace(-3, 3, samples)\n",
    "    y = np.sin(x)\n",
    "    data = np.stack((x, y), axis=1)\n",
    "    return torch.tensor(data, dtype=torch.float32, device=device)\n",
    "\n",
    "# Plot the real data\n",
    "real_data = generate_real_data()\n",
    "plt.scatter(real_data[:, 0].cpu(), real_data[:, 1].cpu())\n",
    "plt.title(\"Real Data\")\n",
    "plt.show()\n",
    "\n"
   ]
  },
  {
   "cell_type": "markdown",
   "metadata": {},
   "source": [
    "## Generator"
   ]
  },
  {
   "cell_type": "code",
   "execution_count": 21,
   "metadata": {},
   "outputs": [
    {
     "name": "stdout",
     "output_type": "stream",
     "text": [
      "Generator(\n",
      "  (net): Sequential(\n",
      "    (0): Linear(in_features=2, out_features=32, bias=True)\n",
      "    (1): ReLU()\n",
      "    (2): Linear(in_features=32, out_features=64, bias=True)\n",
      "    (3): ReLU()\n",
      "    (4): Linear(in_features=64, out_features=32, bias=True)\n",
      "    (5): ReLU()\n",
      "    (6): Linear(in_features=32, out_features=2, bias=True)\n",
      "  )\n",
      ")\n"
     ]
    }
   ],
   "source": [
    "class Generator(nn.Module):\n",
    "    def __init__(self):\n",
    "        super(Generator, self).__init__()\n",
    "        self.net = nn.Sequential(\n",
    "            nn.Linear(2, 32),  # First hidden layer (increased neurons)\n",
    "            nn.ReLU(),\n",
    "            nn.Linear(32, 64), # Second hidden layer\n",
    "            nn.ReLU(),\n",
    "            nn.Linear(64, 32), # Third hidden layer\n",
    "            nn.ReLU(),\n",
    "            nn.Linear(32, 2)   # Output layer\n",
    "        )\n",
    "\n",
    "    def forward(self, x):\n",
    "        return self.net(x)\n",
    "\n",
    "# Initialize generator\n",
    "generator = Generator().to(device)\n",
    "print(generator)\n"
   ]
  },
  {
   "cell_type": "markdown",
   "metadata": {},
   "source": [
    "## Discriminator"
   ]
  },
  {
   "cell_type": "code",
   "execution_count": null,
   "metadata": {},
   "outputs": [
    {
     "name": "stdout",
     "output_type": "stream",
     "text": [
      "Discriminator(\n",
      "  (net): Sequential(\n",
      "    (0): Linear(in_features=2, out_features=32, bias=True)\n",
      "    (1): LeakyReLU(negative_slope=0.2)\n",
      "    (2): Linear(in_features=32, out_features=64, bias=True)\n",
      "    (3): LeakyReLU(negative_slope=0.2)\n",
      "    (4): Linear(in_features=64, out_features=32, bias=True)\n",
      "    (5): LeakyReLU(negative_slope=0.2)\n",
      "    (6): Linear(in_features=32, out_features=1, bias=True)\n",
      "    (7): Sigmoid()\n",
      "  )\n",
      ")\n"
     ]
    }
   ],
   "source": [
    "class Discriminator(nn.Module):\n",
    "    def __init__(self):\n",
    "        super(Discriminator, self).__init__()\n",
    "        self.net = nn.Sequential(\n",
    "            nn.Linear(2, 32),\n",
    "            nn.LeakyReLU(0.2),\n",
    "            nn.Linear(32, 64),\n",
    "            nn.LeakyReLU(0.2),\n",
    "            nn.Linear(64, 32),\n",
    "            nn.LeakyReLU(0.2),\n",
    "            nn.Linear(32, 1), #the 1 in output is the probabilities we are producing\n",
    "            nn.Sigmoid()\n",
    "        )\n",
    "\n",
    "    def forward(self, x):\n",
    "        return self.net(x)\n",
    "\n",
    "# Initialize discriminator\n",
    "discriminator = Discriminator().to(device)\n",
    "print(discriminator)\n"
   ]
  },
  {
   "cell_type": "code",
   "execution_count": 37,
   "metadata": {},
   "outputs": [],
   "source": [
    "# Binary Cross-Entropy Loss\n",
    "criterion = nn.BCELoss()\n",
    "\n",
    "#Hyperparameters\n",
    "batch_size= 64\n",
    "lr = 0.002\n",
    "\n",
    "# Optimizers\n",
    "\n",
    "generator_optimizer = optim.Adam(generator.parameters(), lr=lr)\n",
    "discriminator_optimizer = optim.Adam(discriminator.parameters(), lr=lr)\n",
    "\n",
    "# Prepare logging directory for images\n",
    "os.makedirs(\"generated_images\", exist_ok=True)\n",
    "\n",
    "scheduler_G = torch.optim.lr_scheduler.StepLR(generator_optimizer, step_size=1000, gamma=0.9)\n",
    "scheduler_D = torch.optim.lr_scheduler.StepLR(discriminator_optimizer, step_size=1000, gamma=0.9)\n",
    "\n"
   ]
  },
  {
   "cell_type": "code",
   "execution_count": null,
   "metadata": {},
   "outputs": [
    {
     "name": "stdout",
     "output_type": "stream",
     "text": [
      "Epoch 0, D Loss: 1.3351, G Loss: 0.7235\n"
     ]
    }
   ],
   "source": [
    "# Training loop\n",
    "num_epochs = 5000\n",
    "with mlflow.start_run():\n",
    "    # Log hyperparameters\n",
    "    mlflow.log_param(\"learning_rate_generator\", lr)\n",
    "    mlflow.log_param(\"learning_rate_discriminator\", lr)\n",
    "    mlflow.log_param(\"batch_size\", batch_size)\n",
    "    mlflow.log_param(\"epochs\", num_epochs)\n",
    "    for epoch in range(num_epochs):\n",
    "        # Step 1: Train the discriminator\n",
    "        discriminator_optimizer.zero_grad()\n",
    "\n",
    "        # Real data\n",
    "        real_labels = torch.ones(real_data.size(0), 1, device=device)  # Label = 1\n",
    "        real_output = discriminator(real_data)\n",
    "        real_loss = criterion(real_output, real_labels)\n",
    "\n",
    "        # Fake data\n",
    "        noise = torch.randn(real_data.size(0), 2, device=device)  # Random noise\n",
    "        fake_data = generator(noise)\n",
    "        fake_labels = torch.zeros(real_data.size(0), 1, device=device)  # Label = 0\n",
    "        fake_output = discriminator(fake_data.detach())\n",
    "        fake_loss = criterion(fake_output, fake_labels)\n",
    "\n",
    "        # Total discriminator loss\n",
    "        d_loss = real_loss + fake_loss\n",
    "        d_loss.backward()\n",
    "        discriminator_optimizer.step()\n",
    "\n",
    "        # Step 2: Train the generator\n",
    "        generator_optimizer.zero_grad()\n",
    "\n",
    "        # Fake data, but try to fool the discriminator\n",
    "        fake_output = discriminator(fake_data)\n",
    "        g_loss = criterion(fake_output, real_labels)  # Labels = 1 to fool D\n",
    "        g_loss.backward()\n",
    "        generator_optimizer.step()\n",
    "\n",
    "        # Log metrics\n",
    "        mlflow.log_metric(\"D_Loss\", d_loss.item(), step=epoch)\n",
    "        mlflow.log_metric(\"G_Loss\", g_loss.item(), step=epoch)\n",
    "\n",
    "        # Save generated images every 500 epochs\n",
    "        if epoch % 500 == 0:\n",
    "            fake_data_np = fake_data.cpu().detach().numpy()\n",
    "            plt.figure(figsize=(6, 6))\n",
    "            plt.scatter(fake_data_np[:, 0], fake_data_np[:, 1], label=\"Fake Data\")\n",
    "            plt.title(f\"Epoch {epoch}\")\n",
    "            plt.legend()\n",
    "            image_path = f\"generated_images/fake_data_epoch_{epoch}.png\"\n",
    "            plt.savefig(image_path)\n",
    "            plt.close()\n",
    "\n",
    "            # Log the image artifact\n",
    "            mlflow.log_artifact(image_path)\n",
    "\n",
    "        # Print progress\n",
    "        if epoch % 500 == 0:\n",
    "            print(f\"Epoch {epoch}, D Loss: {d_loss.item():.4f}, G Loss: {g_loss.item():.4f}\")\n",
    "\n",
    "        # Step the schedulers\n",
    "        scheduler_G.step()\n",
    "        scheduler_D.step()\n",
    "\n",
    "# Save models at the end\n",
    "    torch.save(generator.state_dict(), \"generator.pth\")\n",
    "    torch.save(discriminator.state_dict(), \"discriminator.pth\")\n",
    "    mlflow.pytorch.log_model(generator, \"generator\")\n",
    "    mlflow.pytorch.log_model(discriminator, \"discriminator\")"
   ]
  },
  {
   "cell_type": "code",
   "execution_count": 28,
   "metadata": {},
   "outputs": [
    {
     "data": {
      "image/png": "[encoded data removed]",
      "text/plain": [
       "<Figure size 640x480 with 1 Axes>"
      ]
     },
     "metadata": {},
     "output_type": "display_data"
    }
   ],
   "source": [
    "# Generate fake data\n",
    "noise = torch.randn(100, 2, device=device)\n",
    "fake_data = generator(noise).cpu().detach().numpy()\n",
    "\n",
    "# Plot real vs fake data\n",
    "plt.scatter(real_data[:, 0].cpu(), real_data[:, 1].cpu(), label=\"Real Data\")\n",
    "plt.scatter(fake_data[:, 0], fake_data[:, 1], label=\"Fake Data\")\n",
    "plt.legend()\n",
    "plt.title(\"Real vs Fake Data\")\n",
    "plt.show()\n"
   ]
  },
  {
   "cell_type": "code",
   "execution_count": null,
   "metadata": {},
   "outputs": [],
   "source": [
    "\n"
   ]
  },
  {
   "cell_type": "code",
   "execution_count": null,
   "metadata": {},
   "outputs": [],
   "source": []
  }
 ],
 "metadata": {
  "kernelspec": {
   "display_name": "ganproject",
   "language": "python",
   "name": "ganproject"
  },
  "language_info": {
   "codemirror_mode": {
    "name": "ipython",
    "version": 3
   },
   "file_extension": ".py",
   "mimetype": "text/x-python",
   "name": "python",
   "nbconvert_exporter": "python",
   "pygments_lexer": "ipython3",
   "version": "3.12.7"
  }
 },
 "nbformat": 4,
 "nbformat_minor": 2
}
